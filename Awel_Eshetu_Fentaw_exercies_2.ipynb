{
 "cells": [
  {
   "cell_type": "markdown",
   "metadata": {},
   "source": [
    "#### Task 3 Questions"
   ]
  },
  {
   "cell_type": "markdown",
   "metadata": {},
   "source": [
    "Public databases provide a rich source of biological information that can be incorporated in various studies. a) Names and identifiers of the genes vary in time and between the databases. Use GeneCards (http://www.genecards.org/) to figure out the following names: - Ensembl gene identifier for ERBB2, - HGNC symbol and name for GR."
   ]
  },
  {
   "cell_type": "markdown",
   "metadata": {},
   "source": [
    " ##### Ans \n",
    "Ensemble gene identifier for ERBB2 :- ENSG00000141736,  \n",
    "HGNC symbol and name for GR :-  symbol  (GRL)  , name (Glucocorticoid Receptor ) ??"
   ]
  },
  {
   "cell_type": "markdown",
   "metadata": {},
   "source": [
    "#### TASK 4 Questions"
   ]
  },
  {
   "cell_type": "markdown",
   "metadata": {},
   "source": [
    "a) How does Impact Factor (IF) pathway analysis work? How does it differ from the NetGSA method?"
   ]
  },
  {
   "cell_type": "markdown",
   "metadata": {},
   "source": [
    "##### Ans\n",
    "It works by incorporating number of biological factors such as gene expression, types of interactions, and gene positions in a pathway to the structure and dynamics of the pathway. Further, it modeles the pathway as a graph, where nodes represent genes and edges represent interactions between them. Most importantly it models gene expression as a linear function of other genes in the network.\n",
    "\n",
    "it differs from NetGSA for the fact that  it doesn't impose any constraints on the structure of a pathway. On the contrary NetGSA accounts for a gene's baseline expression by representing it as a latent variable in the model and it requires the pathways to be represented as a dircted acyclic graphs."
   ]
  },
  {
   "cell_type": "markdown",
   "metadata": {},
   "source": [
    "b) The authors mention \"Kolmogorov-Smirnov statistic\" when they discuss Functional Class Scoring (FCS) approaches. Explain briefly how Kolmogorov-Smirnov test works. Hint: Google and Wikipedia may be useful."
   ]
  },
  {
   "cell_type": "markdown",
   "metadata": {},
   "source": [
    "#### Ans\n",
    "The test is used in situations where a comparison has to be made between an observed sample distribution and theoretical distribution.It compares the cumulative distribution function for a variable with a specified distribution."
   ]
  },
  {
   "cell_type": "markdown",
   "metadata": {},
   "source": [
    "c) Explain briefly what the authors mean by low resolution in knowledge bases."
   ]
  },
  {
   "cell_type": "markdown",
   "metadata": {
    "collapsed": true
   },
   "source": [
    "##### Ans\n",
    "current pathway analysis specify which genes are active in a given pathway and it doesn't include other important information such as transcripts which are active in a given pathway and effects of SNPs in a pathway. Hence currently available tools for pathway analysis uses very limited knowledge for mapping the input, which authors mentioned as low resolution in knowledge bases."
   ]
  }
 ],
 "metadata": {
  "kernelspec": {
   "display_name": "R",
   "language": "R",
   "name": "ir"
  },
  "language_info": {
   "codemirror_mode": "r",
   "file_extension": ".r",
   "mimetype": "text/x-r-source",
   "name": "R",
   "pygments_lexer": "r",
   "version": "3.3.2"
  }
 },
 "nbformat": 4,
 "nbformat_minor": 2
}
