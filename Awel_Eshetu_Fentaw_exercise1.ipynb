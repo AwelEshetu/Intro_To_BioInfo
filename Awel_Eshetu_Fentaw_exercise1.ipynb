{
 "cells": [
  {
   "cell_type": "code",
   "execution_count": null,
   "metadata": {
    "collapsed": true
   },
   "outputs": [],
   "source": [
    "# we will need these packages that you download from Bioconductor('maftools') and CRAN ('readr', 'NMF')\n",
    "library(readr)\n",
    "library(NMF)\n",
    "library(maftools)\n",
    "\n",
    "# change this path according to where you created the folder\n",
    "#dataPath <- \"C:/-=TRANSMED=-/course materials/teaching/BIOINF17/ex1/bioinf/\" \n",
    "fileList <- list.files( paste0(\"gdac.broadinstitute.org_OV.Mutation_Packager_Oncotated_Calls.Level_3.2016012800.0.0/\"))\n",
    "\n",
    "# this is to remove the manifest file from the list\n",
    "fileList <- fileList[ fileList != \"MANIFEST.txt\"] \n",
    "\n",
    "# let's create an empty list and then populate it with the files\n",
    "mafList <- list()\n",
    "for (i in seq_along(fileList)) \n",
    "  mafList[[i]] <- read_tsv( paste0( \n",
    "                \"gdac.broadinstitute.org_OV.Mutation_Packager_Oncotated_Calls.Level_3.2016012800.0.0/\",\n",
    "                fileList[i]) ,comment = \"#\", progress = F)\n",
    "\n",
    "#now let's aggregate the list into one data frame\n",
    "maf.df <- as.data.frame(do.call(rbind, mafList))\n",
    "head(maf.df)"
   ]
  },
  {
   "cell_type": "code",
   "execution_count": 42,
   "metadata": {
    "collapsed": false
   },
   "outputs": [],
   "source": [
    "# You can check here and appreciate how many possible annotations one can get\n",
    "# We will choose specific columns only for ease of use\n",
    "\n",
    "selectedColumns <- c( \"Hugo_Symbol\", \"Center\", \"NCBI_Build\", \"Chromosome\",\n",
    "                      \"Start_position\", \"End_position\", \"Variant_Classification\",\n",
    "                      \"Variant_Type\", \"Tumor_Sample_Barcode\", \"Mutation_Status\", \n",
    "                      \"Reference_Allele\", \"Tumor_Seq_Allele1\", \"Tumor_Seq_Allele2\",\n",
    "                      \"Protein_Change\", \"i_dbNSFP_CADD_phred\")\n",
    "\n",
    "maf.df <- maf.df[, selectedColumns]\n"
   ]
  },
  {
   "cell_type": "code",
   "execution_count": 43,
   "metadata": {
    "collapsed": true
   },
   "outputs": [
    {
     "name": "stdout",
     "output_type": "stream",
     "text": [
      "'data.frame':\t20160 obs. of  15 variables:\n",
      " $ Hugo_Symbol           : chr  \"BAI2\" \"LRRC41\" \"ERICH3\" \"SSX2IP\" ...\n",
      " $ Center                : chr  \"broad.mit.edu\" \"broad.mit.edu\" \"broad.mit.edu\" \"broad.mit.edu\" ...\n",
      " $ NCBI_Build            : int  37 37 37 37 37 37 37 37 37 37 ...\n",
      " $ Chromosome            : chr  \"1\" \"1\" \"1\" \"1\" ...\n",
      " $ Start_position        : int  32202221 46751997 75055494 85128152 107866918 153274927 157516843 224321795 248343719 28023684 ...\n",
      " $ End_position          : int  32202221 46751997 75055494 85128152 107866918 153274927 157516843 224321795 248343719 28023684 ...\n",
      " $ Variant_Classification: chr  \"Missense_Mutation\" \"Missense_Mutation\" \"Missense_Mutation\" \"Silent\" ...\n",
      " $ Variant_Type          : chr  \"SNP\" \"SNP\" \"SNP\" \"SNP\" ...\n",
      " $ Tumor_Sample_Barcode  : chr  \"TCGA-04-1331-01\" \"TCGA-04-1331-01\" \"TCGA-04-1331-01\" \"TCGA-04-1331-01\" ...\n",
      " $ Mutation_Status       : chr  \"Unknown\" \"Somatic\" \"Unknown\" \"Somatic\" ...\n",
      " $ Reference_Allele      : chr  \"C\" \"C\" \"T\" \"A\" ...\n",
      " $ Tumor_Seq_Allele1     : chr  \"C\" \"C\" \"T\" \"A\" ...\n",
      " $ Tumor_Seq_Allele2     : chr  \"G\" \"T\" \"G\" \"G\" ...\n",
      " $ Protein_Change        : chr  \"p.R1028P\" \"p.E178K\" \"p.E666A\" \"p.G245G\" ...\n",
      " $ i_dbNSFP_CADD_phred   : chr  \"17.93\" \"28.5\" \"12.41\" NA ...\n"
     ]
    }
   ],
   "source": [
    "# Let's keep only mutations marked as somatic or unknown and \n",
    "# store the rest in separate data.frame\n",
    "maf.germline.df <- maf.df[! maf.df$Mutation_Status %in% c(\"Somatic\",\"Unknown\"), ]\n",
    "maf.df <- maf.df[ maf.df$Mutation_Status %in% c(\"Somatic\",\"Unknown\"), ]\n",
    "\n",
    "# let's see the structure of data frame\n",
    "str(maf.df)"
   ]
  },
  {
   "cell_type": "code",
   "execution_count": 44,
   "metadata": {
    "collapsed": false
   },
   "outputs": [
    {
     "data": {
      "text/html": [
       "<table>\n",
       "<thead><tr><th scope=col>Hugo_Symbol</th><th scope=col>Center</th><th scope=col>NCBI_Build</th><th scope=col>Chromosome</th><th scope=col>Start_position</th><th scope=col>End_position</th><th scope=col>Variant_Classification</th><th scope=col>Variant_Type</th><th scope=col>Tumor_Sample_Barcode</th><th scope=col>Mutation_Status</th><th scope=col>Reference_Allele</th><th scope=col>Tumor_Seq_Allele1</th><th scope=col>Tumor_Seq_Allele2</th><th scope=col>Protein_Change</th><th scope=col>i_dbNSFP_CADD_phred</th></tr></thead>\n",
       "<tbody>\n",
       "\t<tr><td>BAI2             </td><td>broad.mit.edu    </td><td>37               </td><td>1                </td><td> 32202221        </td><td> 32202221        </td><td>Missense_Mutation</td><td>SNP              </td><td>TCGA-04-1331-01  </td><td>Unknown          </td><td>C                </td><td>C                </td><td>G                </td><td>p.R1028P         </td><td>17.93            </td></tr>\n",
       "\t<tr><td>LRRC41           </td><td>broad.mit.edu    </td><td>37               </td><td>1                </td><td> 46751997        </td><td> 46751997        </td><td>Missense_Mutation</td><td>SNP              </td><td>TCGA-04-1331-01  </td><td>Somatic          </td><td>C                </td><td>C                </td><td>T                </td><td>p.E178K          </td><td>28.5             </td></tr>\n",
       "\t<tr><td>ERICH3           </td><td>broad.mit.edu    </td><td>37               </td><td>1                </td><td> 75055494        </td><td> 75055494        </td><td>Missense_Mutation</td><td>SNP              </td><td>TCGA-04-1331-01  </td><td>Unknown          </td><td>T                </td><td>T                </td><td>G                </td><td>p.E666A          </td><td>12.41            </td></tr>\n",
       "\t<tr><td>SSX2IP           </td><td>broad.mit.edu    </td><td>37               </td><td>1                </td><td> 85128152        </td><td> 85128152        </td><td>Silent           </td><td>SNP              </td><td>TCGA-04-1331-01  </td><td>Somatic          </td><td>A                </td><td>A                </td><td>G                </td><td>p.G245G          </td><td>NA               </td></tr>\n",
       "\t<tr><td>NTNG1            </td><td>broad.mit.edu    </td><td>37               </td><td>1                </td><td>107866918        </td><td>107866918        </td><td>Missense_Mutation</td><td>SNP              </td><td>TCGA-04-1331-01  </td><td>Somatic          </td><td>G                </td><td>G                </td><td>A                </td><td>p.M87I           </td><td>19.40            </td></tr>\n",
       "\t<tr><td>PGLYRP3          </td><td>broad.mit.edu    </td><td>37               </td><td>1                </td><td>153274927        </td><td>153274927        </td><td>Missense_Mutation</td><td>SNP              </td><td>TCGA-04-1331-01  </td><td>Unknown          </td><td>G                </td><td>G                </td><td>T                </td><td>p.S229Y          </td><td>14.61            </td></tr>\n",
       "</tbody>\n",
       "</table>\n"
      ],
      "text/latex": [
       "\\begin{tabular}{r|lllllllllllllll}\n",
       " Hugo\\_Symbol & Center & NCBI\\_Build & Chromosome & Start\\_position & End\\_position & Variant\\_Classification & Variant\\_Type & Tumor\\_Sample\\_Barcode & Mutation\\_Status & Reference\\_Allele & Tumor\\_Seq\\_Allele1 & Tumor\\_Seq\\_Allele2 & Protein\\_Change & i\\_dbNSFP\\_CADD\\_phred\\\\\n",
       "\\hline\n",
       "\t BAI2                & broad.mit.edu       & 37                  & 1                   &  32202221           &  32202221           & Missense\\_Mutation & SNP                 & TCGA-04-1331-01     & Unknown             & C                   & C                   & G                   & p.R1028P            & 17.93              \\\\\n",
       "\t LRRC41              & broad.mit.edu       & 37                  & 1                   &  46751997           &  46751997           & Missense\\_Mutation & SNP                 & TCGA-04-1331-01     & Somatic             & C                   & C                   & T                   & p.E178K             & 28.5               \\\\\n",
       "\t ERICH3              & broad.mit.edu       & 37                  & 1                   &  75055494           &  75055494           & Missense\\_Mutation & SNP                 & TCGA-04-1331-01     & Unknown             & T                   & T                   & G                   & p.E666A             & 12.41              \\\\\n",
       "\t SSX2IP            & broad.mit.edu     & 37                & 1                 &  85128152         &  85128152         & Silent            & SNP               & TCGA-04-1331-01   & Somatic           & A                 & A                 & G                 & p.G245G           & NA               \\\\\n",
       "\t NTNG1               & broad.mit.edu       & 37                  & 1                   & 107866918           & 107866918           & Missense\\_Mutation & SNP                 & TCGA-04-1331-01     & Somatic             & G                   & G                   & A                   & p.M87I              & 19.40              \\\\\n",
       "\t PGLYRP3             & broad.mit.edu       & 37                  & 1                   & 153274927           & 153274927           & Missense\\_Mutation & SNP                 & TCGA-04-1331-01     & Unknown             & G                   & G                   & T                   & p.S229Y             & 14.61              \\\\\n",
       "\\end{tabular}\n"
      ],
      "text/markdown": [
       "\n",
       "Hugo_Symbol | Center | NCBI_Build | Chromosome | Start_position | End_position | Variant_Classification | Variant_Type | Tumor_Sample_Barcode | Mutation_Status | Reference_Allele | Tumor_Seq_Allele1 | Tumor_Seq_Allele2 | Protein_Change | i_dbNSFP_CADD_phred | \n",
       "|---|---|---|---|---|---|\n",
       "| BAI2              | broad.mit.edu     | 37                | 1                 |  32202221         |  32202221         | Missense_Mutation | SNP               | TCGA-04-1331-01   | Unknown           | C                 | C                 | G                 | p.R1028P          | 17.93             | \n",
       "| LRRC41            | broad.mit.edu     | 37                | 1                 |  46751997         |  46751997         | Missense_Mutation | SNP               | TCGA-04-1331-01   | Somatic           | C                 | C                 | T                 | p.E178K           | 28.5              | \n",
       "| ERICH3            | broad.mit.edu     | 37                | 1                 |  75055494         |  75055494         | Missense_Mutation | SNP               | TCGA-04-1331-01   | Unknown           | T                 | T                 | G                 | p.E666A           | 12.41             | \n",
       "| SSX2IP            | broad.mit.edu     | 37                | 1                 |  85128152         |  85128152         | Silent            | SNP               | TCGA-04-1331-01   | Somatic           | A                 | A                 | G                 | p.G245G           | NA                | \n",
       "| NTNG1             | broad.mit.edu     | 37                | 1                 | 107866918         | 107866918         | Missense_Mutation | SNP               | TCGA-04-1331-01   | Somatic           | G                 | G                 | A                 | p.M87I            | 19.40             | \n",
       "| PGLYRP3           | broad.mit.edu     | 37                | 1                 | 153274927         | 153274927         | Missense_Mutation | SNP               | TCGA-04-1331-01   | Unknown           | G                 | G                 | T                 | p.S229Y           | 14.61             | \n",
       "\n",
       "\n"
      ],
      "text/plain": [
       "  Hugo_Symbol Center        NCBI_Build Chromosome Start_position End_position\n",
       "1 BAI2        broad.mit.edu 37         1           32202221       32202221   \n",
       "2 LRRC41      broad.mit.edu 37         1           46751997       46751997   \n",
       "3 ERICH3      broad.mit.edu 37         1           75055494       75055494   \n",
       "4 SSX2IP      broad.mit.edu 37         1           85128152       85128152   \n",
       "5 NTNG1       broad.mit.edu 37         1          107866918      107866918   \n",
       "6 PGLYRP3     broad.mit.edu 37         1          153274927      153274927   \n",
       "  Variant_Classification Variant_Type Tumor_Sample_Barcode Mutation_Status\n",
       "1 Missense_Mutation      SNP          TCGA-04-1331-01      Unknown        \n",
       "2 Missense_Mutation      SNP          TCGA-04-1331-01      Somatic        \n",
       "3 Missense_Mutation      SNP          TCGA-04-1331-01      Unknown        \n",
       "4 Silent                 SNP          TCGA-04-1331-01      Somatic        \n",
       "5 Missense_Mutation      SNP          TCGA-04-1331-01      Somatic        \n",
       "6 Missense_Mutation      SNP          TCGA-04-1331-01      Unknown        \n",
       "  Reference_Allele Tumor_Seq_Allele1 Tumor_Seq_Allele2 Protein_Change\n",
       "1 C                C                 G                 p.R1028P      \n",
       "2 C                C                 T                 p.E178K       \n",
       "3 T                T                 G                 p.E666A       \n",
       "4 A                A                 G                 p.G245G       \n",
       "5 G                G                 A                 p.M87I        \n",
       "6 G                G                 T                 p.S229Y       \n",
       "  i_dbNSFP_CADD_phred\n",
       "1 17.93              \n",
       "2 28.5               \n",
       "3 12.41              \n",
       "4 NA                 \n",
       "5 19.40              \n",
       "6 14.61              "
      ]
     },
     "metadata": {},
     "output_type": "display_data"
    }
   ],
   "source": [
    "head(maf.df)"
   ]
  },
  {
   "cell_type": "code",
   "execution_count": 45,
   "metadata": {
    "collapsed": false
   },
   "outputs": [
    {
     "data": {
      "text/html": [
       "<table>\n",
       "<thead><tr><th></th><th scope=col>Hugo_Symbol</th><th scope=col>Center</th><th scope=col>NCBI_Build</th><th scope=col>Chromosome</th><th scope=col>Start_position</th><th scope=col>End_position</th><th scope=col>Variant_Classification</th><th scope=col>Variant_Type</th><th scope=col>Tumor_Sample_Barcode</th><th scope=col>Mutation_Status</th><th scope=col>Reference_Allele</th><th scope=col>Tumor_Seq_Allele1</th><th scope=col>Tumor_Seq_Allele2</th><th scope=col>Protein_Change</th><th scope=col>i_dbNSFP_CADD_phred</th></tr></thead>\n",
       "<tbody>\n",
       "\t<tr><th scope=row>20214</th><td>C9orf78          </td><td>broad.mit.edu    </td><td>37               </td><td>9                </td><td>132597484        </td><td>132597484        </td><td>Missense_Mutation</td><td>SNP              </td><td>TCGA-61-2113-01  </td><td>Unknown          </td><td>T                </td><td>T                </td><td>G                </td><td>p.K6T            </td><td>13.48            </td></tr>\n",
       "\t<tr><th scope=row>20215</th><td>CAMSAP1          </td><td>broad.mit.edu    </td><td>37               </td><td>9                </td><td>138714002        </td><td>138714002        </td><td>Missense_Mutation</td><td>SNP              </td><td>TCGA-61-2113-01  </td><td>Unknown          </td><td>G                </td><td>G                </td><td>C                </td><td>p.S835R          </td><td>22.6             </td></tr>\n",
       "\t<tr><th scope=row>20216</th><td>NOTCH1           </td><td>broad.mit.edu    </td><td>37               </td><td>9                </td><td>139391081        </td><td>139391081        </td><td>Missense_Mutation</td><td>SNP              </td><td>TCGA-61-2113-01  </td><td>Unknown          </td><td>G                </td><td>G                </td><td>T                </td><td>p.S2370R         </td><td>12.84            </td></tr>\n",
       "\t<tr><th scope=row>20217</th><td>DPP7             </td><td>broad.mit.edu    </td><td>37               </td><td>9                </td><td>140007856        </td><td>140007856        </td><td>Missense_Mutation</td><td>SNP              </td><td>TCGA-61-2113-01  </td><td>Unknown          </td><td>G                </td><td>G                </td><td>A                </td><td>p.A193V          </td><td>17.85            </td></tr>\n",
       "\t<tr><th scope=row>20218</th><td>FAM47A           </td><td>broad.mit.edu    </td><td>37               </td><td>X                </td><td> 34149721        </td><td> 34149721        </td><td>Silent           </td><td>SNP              </td><td>TCGA-61-2113-01  </td><td>Unknown          </td><td>C                </td><td>C                </td><td>T                </td><td>p.P225P          </td><td>NA               </td></tr>\n",
       "\t<tr><th scope=row>20219</th><td>B3GNT7           </td><td>broad.mit.edu    </td><td>37               </td><td>2                </td><td>232263379        </td><td>232263380        </td><td>In_Frame_Ins     </td><td>INS              </td><td>TCGA-61-2113-01  </td><td>Unknown          </td><td>-                </td><td>-                </td><td>GCG              </td><td>p.317_318insG    </td><td>NA               </td></tr>\n",
       "</tbody>\n",
       "</table>\n"
      ],
      "text/latex": [
       "\\begin{tabular}{r|lllllllllllllll}\n",
       "  & Hugo\\_Symbol & Center & NCBI\\_Build & Chromosome & Start\\_position & End\\_position & Variant\\_Classification & Variant\\_Type & Tumor\\_Sample\\_Barcode & Mutation\\_Status & Reference\\_Allele & Tumor\\_Seq\\_Allele1 & Tumor\\_Seq\\_Allele2 & Protein\\_Change & i\\_dbNSFP\\_CADD\\_phred\\\\\n",
       "\\hline\n",
       "\t20214 & C9orf78             & broad.mit.edu       & 37                  & 9                   & 132597484           & 132597484           & Missense\\_Mutation & SNP                 & TCGA-61-2113-01     & Unknown             & T                   & T                   & G                   & p.K6T               & 13.48              \\\\\n",
       "\t20215 & CAMSAP1             & broad.mit.edu       & 37                  & 9                   & 138714002           & 138714002           & Missense\\_Mutation & SNP                 & TCGA-61-2113-01     & Unknown             & G                   & G                   & C                   & p.S835R             & 22.6               \\\\\n",
       "\t20216 & NOTCH1              & broad.mit.edu       & 37                  & 9                   & 139391081           & 139391081           & Missense\\_Mutation & SNP                 & TCGA-61-2113-01     & Unknown             & G                   & G                   & T                   & p.S2370R            & 12.84              \\\\\n",
       "\t20217 & DPP7                & broad.mit.edu       & 37                  & 9                   & 140007856           & 140007856           & Missense\\_Mutation & SNP                 & TCGA-61-2113-01     & Unknown             & G                   & G                   & A                   & p.A193V             & 17.85              \\\\\n",
       "\t20218 & FAM47A            & broad.mit.edu     & 37                & X                 &  34149721         &  34149721         & Silent            & SNP               & TCGA-61-2113-01   & Unknown           & C                 & C                 & T                 & p.P225P           & NA               \\\\\n",
       "\t20219 & B3GNT7                & broad.mit.edu         & 37                    & 2                     & 232263379             & 232263380             & In\\_Frame\\_Ins      & INS                   & TCGA-61-2113-01       & Unknown               & -                     & -                     & GCG                   & p.317\\_318insG       & NA                   \\\\\n",
       "\\end{tabular}\n"
      ],
      "text/markdown": [
       "\n",
       "| <!--/--> | Hugo_Symbol | Center | NCBI_Build | Chromosome | Start_position | End_position | Variant_Classification | Variant_Type | Tumor_Sample_Barcode | Mutation_Status | Reference_Allele | Tumor_Seq_Allele1 | Tumor_Seq_Allele2 | Protein_Change | i_dbNSFP_CADD_phred | \n",
       "|---|---|---|---|---|---|\n",
       "| 20214 | C9orf78           | broad.mit.edu     | 37                | 9                 | 132597484         | 132597484         | Missense_Mutation | SNP               | TCGA-61-2113-01   | Unknown           | T                 | T                 | G                 | p.K6T             | 13.48             | \n",
       "| 20215 | CAMSAP1           | broad.mit.edu     | 37                | 9                 | 138714002         | 138714002         | Missense_Mutation | SNP               | TCGA-61-2113-01   | Unknown           | G                 | G                 | C                 | p.S835R           | 22.6              | \n",
       "| 20216 | NOTCH1            | broad.mit.edu     | 37                | 9                 | 139391081         | 139391081         | Missense_Mutation | SNP               | TCGA-61-2113-01   | Unknown           | G                 | G                 | T                 | p.S2370R          | 12.84             | \n",
       "| 20217 | DPP7              | broad.mit.edu     | 37                | 9                 | 140007856         | 140007856         | Missense_Mutation | SNP               | TCGA-61-2113-01   | Unknown           | G                 | G                 | A                 | p.A193V           | 17.85             | \n",
       "| 20218 | FAM47A            | broad.mit.edu     | 37                | X                 |  34149721         |  34149721         | Silent            | SNP               | TCGA-61-2113-01   | Unknown           | C                 | C                 | T                 | p.P225P           | NA                | \n",
       "| 20219 | B3GNT7            | broad.mit.edu     | 37                | 2                 | 232263379         | 232263380         | In_Frame_Ins      | INS               | TCGA-61-2113-01   | Unknown           | -                 | -                 | GCG               | p.317_318insG     | NA                | \n",
       "\n",
       "\n"
      ],
      "text/plain": [
       "      Hugo_Symbol Center        NCBI_Build Chromosome Start_position\n",
       "20214 C9orf78     broad.mit.edu 37         9          132597484     \n",
       "20215 CAMSAP1     broad.mit.edu 37         9          138714002     \n",
       "20216 NOTCH1      broad.mit.edu 37         9          139391081     \n",
       "20217 DPP7        broad.mit.edu 37         9          140007856     \n",
       "20218 FAM47A      broad.mit.edu 37         X           34149721     \n",
       "20219 B3GNT7      broad.mit.edu 37         2          232263379     \n",
       "      End_position Variant_Classification Variant_Type Tumor_Sample_Barcode\n",
       "20214 132597484    Missense_Mutation      SNP          TCGA-61-2113-01     \n",
       "20215 138714002    Missense_Mutation      SNP          TCGA-61-2113-01     \n",
       "20216 139391081    Missense_Mutation      SNP          TCGA-61-2113-01     \n",
       "20217 140007856    Missense_Mutation      SNP          TCGA-61-2113-01     \n",
       "20218  34149721    Silent                 SNP          TCGA-61-2113-01     \n",
       "20219 232263380    In_Frame_Ins           INS          TCGA-61-2113-01     \n",
       "      Mutation_Status Reference_Allele Tumor_Seq_Allele1 Tumor_Seq_Allele2\n",
       "20214 Unknown         T                T                 G                \n",
       "20215 Unknown         G                G                 C                \n",
       "20216 Unknown         G                G                 T                \n",
       "20217 Unknown         G                G                 A                \n",
       "20218 Unknown         C                C                 T                \n",
       "20219 Unknown         -                -                 GCG              \n",
       "      Protein_Change i_dbNSFP_CADD_phred\n",
       "20214 p.K6T          13.48              \n",
       "20215 p.S835R        22.6               \n",
       "20216 p.S2370R       12.84              \n",
       "20217 p.A193V        17.85              \n",
       "20218 p.P225P        NA                 \n",
       "20219 p.317_318insG  NA                 "
      ]
     },
     "metadata": {},
     "output_type": "display_data"
    }
   ],
   "source": [
    "tail(maf.df)\n"
   ]
  },
  {
   "cell_type": "code",
   "execution_count": 13,
   "metadata": {
    "collapsed": false
   },
   "outputs": [
    {
     "name": "stderr",
     "output_type": "stream",
     "text": [
      "reading maf..\n",
      "Done !\n"
     ]
    }
   ],
   "source": [
    "write.table(maf.df, file = paste0(\"allSamplesMaf.maf\"),\n",
    "            col.names = T, row.names = F, quote = F, sep=\"\\t\")\n",
    "\n",
    "\n",
    "maf <- read.maf(maf = paste0(\"allSamplesMaf.maf\"),\n",
    "                removeSilent = T, useAll = T , verbose = F)"
   ]
  },
  {
   "cell_type": "markdown",
   "metadata": {},
   "source": [
    "##### Task 1: Mutation analysis"
   ]
  },
  {
   "cell_type": "markdown",
   "metadata": {},
   "source": [
    "##### What is the median mutation rate per megabase assuming an approximate exome size of 33 megabases? Tip: if you are using the maf object, you need to read it again including silent mutations, it’s easier to use maf.df here."
   ]
  },
  {
   "cell_type": "markdown",
   "metadata": {},
   "source": [
    "##### solution"
   ]
  },
  {
   "cell_type": "code",
   "execution_count": 47,
   "metadata": {
    "collapsed": false
   },
   "outputs": [
    {
     "data": {
      "text/html": [
       "1.6969696969697"
      ],
      "text/latex": [
       "1.6969696969697"
      ],
      "text/markdown": [
       "1.6969696969697"
      ],
      "text/plain": [
       "[1] 1.69697"
      ]
     },
     "metadata": {},
     "output_type": "display_data"
    }
   ],
   "source": [
    "#useful col for this analaysis will be Tumor_Sample_Barcode\n",
    "median(table(maf.df$Tumor_Sample_Barcode)/33)"
   ]
  },
  {
   "cell_type": "markdown",
   "metadata": {},
   "source": [
    "##### Make an oncoplot of the top mutated 15 genes. How many and which of them are reported by the TCGA paper as driver genes? Can you explain why frequency alone is not an efficient method?"
   ]
  },
  {
   "cell_type": "code",
   "execution_count": 48,
   "metadata": {
    "collapsed": false
   },
   "outputs": [
    {
     "data": {
      "image/png": "[encoded data removed]",
      "text/plain": [
       "plot without title"
      ]
     },
     "metadata": {},
     "output_type": "display_data"
    }
   ],
   "source": [
    "oncoplot(maf = maf, top = 15)"
   ]
  },
  {
   "cell_type": "markdown",
   "metadata": {},
   "source": [
    "##### Make lolliplots for TP53, NF1 and RB1. What does the distribution of mutations suggest?"
   ]
  },
  {
   "cell_type": "code",
   "execution_count": 49,
   "metadata": {
    "collapsed": false
   },
   "outputs": [
    {
     "name": "stderr",
     "output_type": "stream",
     "text": [
      "Removed 31 mutations for which AA position was not available\n"
     ]
    },
    {
     "name": "stdout",
     "output_type": "stream",
     "text": [
      "    Variant_Type Variant_Classification AAChange conv pos\n",
      " 1:          SNP            Splice_Site       NA   NA  NA\n",
      " 2:          SNP            Splice_Site       NA   NA  NA\n",
      " 3:          SNP            Splice_Site       NA   NA  NA\n",
      " 4:          SNP            Splice_Site       NA   NA  NA\n",
      " 5:          SNP            Splice_Site       NA   NA  NA\n",
      " 6:          SNP            Splice_Site       NA   NA  NA\n",
      " 7:          SNP            Splice_Site       NA   NA  NA\n",
      " 8:          SNP            Splice_Site       NA   NA  NA\n",
      " 9:          SNP            Splice_Site       NA   NA  NA\n",
      "10:          SNP            Splice_Site       NA   NA  NA\n",
      "11:          SNP            Splice_Site       NA   NA  NA\n",
      "12:          SNP            Splice_Site       NA   NA  NA\n",
      "13:          SNP            Splice_Site       NA   NA  NA\n",
      "14:          SNP            Splice_Site       NA   NA  NA\n",
      "15:          SNP            Splice_Site       NA   NA  NA\n",
      "16:          SNP            Splice_Site       NA   NA  NA\n",
      "17:          SNP            Splice_Site       NA   NA  NA\n",
      "18:          SNP            Splice_Site       NA   NA  NA\n",
      "19:          SNP            Splice_Site       NA   NA  NA\n",
      "20:          SNP            Splice_Site       NA   NA  NA\n",
      "21:          SNP            Splice_Site       NA   NA  NA\n",
      "22:          SNP            Splice_Site       NA   NA  NA\n",
      "23:          SNP            Splice_Site       NA   NA  NA\n",
      "24:          SNP            Splice_Site       NA   NA  NA\n",
      "25:          SNP            Splice_Site       NA   NA  NA\n",
      "26:          SNP            Splice_Site       NA   NA  NA\n",
      "27:          SNP            Splice_Site       NA   NA  NA\n",
      "28:          SNP            Splice_Site       NA   NA  NA\n",
      "29:          SNP            Splice_Site       NA   NA  NA\n",
      "30:          SNP            Splice_Site       NA   NA  NA\n",
      "31:          SNP            Splice_Site       NA   NA  NA\n",
      "    Variant_Type Variant_Classification AAChange conv pos\n"
     ]
    },
    {
     "data": {
      "image/png": "[encoded data removed]",
      "text/plain": [
       "plot without title"
      ]
     },
     "metadata": {},
     "output_type": "display_data"
    }
   ],
   "source": [
    "plots_TP53 <- lollipopPlot(maf = maf, gene = 'TP53', AACol = \"Protein_Change\", refSeqID = \"NM_000546\")"
   ]
  },
  {
   "cell_type": "code",
   "execution_count": 50,
   "metadata": {
    "collapsed": false
   },
   "outputs": [
    {
     "name": "stderr",
     "output_type": "stream",
     "text": [
      "Removed 1 mutations for which AA position was not available\n"
     ]
    },
    {
     "name": "stdout",
     "output_type": "stream",
     "text": [
      "   Variant_Type Variant_Classification AAChange conv pos\n",
      "1:          SNP            Splice_Site       NA   NA  NA\n"
     ]
    },
    {
     "data": {
      "image/png": "[encoded data removed]",
      "text/plain": [
       "plot without title"
      ]
     },
     "metadata": {},
     "output_type": "display_data"
    }
   ],
   "source": [
    "plot_NF1 <- lollipopPlot(maf = maf, gene = 'NF1', AACol = \"Protein_Change\", refSeqID = \"NM_001042492\")"
   ]
  },
  {
   "cell_type": "code",
   "execution_count": 51,
   "metadata": {
    "collapsed": false
   },
   "outputs": [
    {
     "name": "stderr",
     "output_type": "stream",
     "text": [
      "Removed 1 mutations for which AA position was not available\n"
     ]
    },
    {
     "name": "stdout",
     "output_type": "stream",
     "text": [
      "   Variant_Type Variant_Classification AAChange conv pos\n",
      "1:          SNP            Splice_Site       NA   NA  NA\n"
     ]
    },
    {
     "data": {
      "image/png": "[encoded data removed]",
      "text/plain": [
       "plot without title"
      ]
     },
     "metadata": {},
     "output_type": "display_data"
    }
   ],
   "source": [
    "plot_RB1 <- lollipopPlot(maf = maf, gene = 'RB1', AACol = \"Protein_Change\", refSeqID = \"NM_000321\")"
   ]
  },
  {
   "cell_type": "markdown",
   "metadata": {},
   "source": [
    "##### How many patients have non-silent mutations in either BRCA1 or BRCA2 including germline variants?"
   ]
  },
  {
   "cell_type": "code",
   "execution_count": 53,
   "metadata": {
    "collapsed": false
   },
   "outputs": [
    {
     "data": {
      "text/plain": [
       "\n",
       "  Frame_Shift_Del   Frame_Shift_Ins Missense_Mutation Nonsense_Mutation \n",
       "                7                 2                 3                 6 "
      ]
     },
     "metadata": {},
     "output_type": "display_data"
    }
   ],
   "source": [
    "# check BRCA1 or BRCA2 if they are  non-silent  and calculate the length \n",
    "table(maf.df[maf.df[,1] %in% c(\"BRCA1\",\"BRCA2\"),\"Variant_Classification\"])\n"
   ]
  },
  {
   "cell_type": "code",
   "execution_count": 56,
   "metadata": {
    "collapsed": false
   },
   "outputs": [
    {
     "data": {
      "text/plain": [
       "< table of extent 0 >"
      ]
     },
     "metadata": {},
     "output_type": "display_data"
    }
   ],
   "source": [
    "table(maf.germline.df[maf.germline.df[,1] %in% c(\"BRCA1\",\"BRCA2\"),\"Variant_Classification\"])"
   ]
  },
  {
   "cell_type": "code",
   "execution_count": 55,
   "metadata": {
    "collapsed": false
   },
   "outputs": [
    {
     "data": {
      "text/html": [
       "18"
      ],
      "text/latex": [
       "18"
      ],
      "text/markdown": [
       "18"
      ],
      "text/plain": [
       "[1] 18"
      ]
     },
     "metadata": {},
     "output_type": "display_data"
    }
   ],
   "source": [
    "length(unique( c(maf.df[maf.df$Hugo_Symbol %in% c(\"BRCA1\",\"BRCA2\"), \"Tumor_Sample_Barcode\" ],\n",
    "                  maf.germline.df[ maf.germline.df$Hugo_Symbol %in% c(\"BRCA1\",\"BRCA2\"), \"Tumor_Sample_Barcode\" ])))"
   ]
  },
  {
   "cell_type": "markdown",
   "metadata": {},
   "source": [
    "##### Compare CADD scores between Silent, Missense_Mutation, Nonsense_Mutation and Splice_Site mutations (a boxplot is good way). Which type has the highest scores on average and which has the lowest scores?"
   ]
  },
  {
   "cell_type": "code",
   "execution_count": 57,
   "metadata": {
    "collapsed": true
   },
   "outputs": [],
   "source": [
    "types <- c(\"Nonsense_Mutation\",\"Splice_Site\",\"Missense_Mutation\",\"Silent\")"
   ]
  },
  {
   "cell_type": "code",
   "execution_count": 59,
   "metadata": {
    "collapsed": false
   },
   "outputs": [
    {
     "data": {
      "text/html": [
       "<table>\n",
       "<thead><tr><th scope=col>Hugo_Symbol</th><th scope=col>Center</th><th scope=col>NCBI_Build</th><th scope=col>Chromosome</th><th scope=col>Start_position</th><th scope=col>End_position</th><th scope=col>Variant_Classification</th><th scope=col>Variant_Type</th><th scope=col>Tumor_Sample_Barcode</th><th scope=col>Mutation_Status</th><th scope=col>Reference_Allele</th><th scope=col>Tumor_Seq_Allele1</th><th scope=col>Tumor_Seq_Allele2</th><th scope=col>Protein_Change</th><th scope=col>i_dbNSFP_CADD_phred</th></tr></thead>\n",
       "<tbody>\n",
       "\t<tr><td>BAI2             </td><td>broad.mit.edu    </td><td>37               </td><td>1                </td><td> 32202221        </td><td> 32202221        </td><td>Missense_Mutation</td><td>SNP              </td><td>TCGA-04-1331-01  </td><td>Unknown          </td><td>C                </td><td>C                </td><td>G                </td><td>p.R1028P         </td><td>17.93            </td></tr>\n",
       "\t<tr><td>LRRC41           </td><td>broad.mit.edu    </td><td>37               </td><td>1                </td><td> 46751997        </td><td> 46751997        </td><td>Missense_Mutation</td><td>SNP              </td><td>TCGA-04-1331-01  </td><td>Somatic          </td><td>C                </td><td>C                </td><td>T                </td><td>p.E178K          </td><td>28.5             </td></tr>\n",
       "\t<tr><td>ERICH3           </td><td>broad.mit.edu    </td><td>37               </td><td>1                </td><td> 75055494        </td><td> 75055494        </td><td>Missense_Mutation</td><td>SNP              </td><td>TCGA-04-1331-01  </td><td>Unknown          </td><td>T                </td><td>T                </td><td>G                </td><td>p.E666A          </td><td>12.41            </td></tr>\n",
       "\t<tr><td>SSX2IP           </td><td>broad.mit.edu    </td><td>37               </td><td>1                </td><td> 85128152        </td><td> 85128152        </td><td>Silent           </td><td>SNP              </td><td>TCGA-04-1331-01  </td><td>Somatic          </td><td>A                </td><td>A                </td><td>G                </td><td>p.G245G          </td><td>NA               </td></tr>\n",
       "\t<tr><td>NTNG1            </td><td>broad.mit.edu    </td><td>37               </td><td>1                </td><td>107866918        </td><td>107866918        </td><td>Missense_Mutation</td><td>SNP              </td><td>TCGA-04-1331-01  </td><td>Somatic          </td><td>G                </td><td>G                </td><td>A                </td><td>p.M87I           </td><td>19.40            </td></tr>\n",
       "\t<tr><td>PGLYRP3          </td><td>broad.mit.edu    </td><td>37               </td><td>1                </td><td>153274927        </td><td>153274927        </td><td>Missense_Mutation</td><td>SNP              </td><td>TCGA-04-1331-01  </td><td>Unknown          </td><td>G                </td><td>G                </td><td>T                </td><td>p.S229Y          </td><td>14.61            </td></tr>\n",
       "</tbody>\n",
       "</table>\n"
      ],
      "text/latex": [
       "\\begin{tabular}{r|lllllllllllllll}\n",
       " Hugo\\_Symbol & Center & NCBI\\_Build & Chromosome & Start\\_position & End\\_position & Variant\\_Classification & Variant\\_Type & Tumor\\_Sample\\_Barcode & Mutation\\_Status & Reference\\_Allele & Tumor\\_Seq\\_Allele1 & Tumor\\_Seq\\_Allele2 & Protein\\_Change & i\\_dbNSFP\\_CADD\\_phred\\\\\n",
       "\\hline\n",
       "\t BAI2                & broad.mit.edu       & 37                  & 1                   &  32202221           &  32202221           & Missense\\_Mutation & SNP                 & TCGA-04-1331-01     & Unknown             & C                   & C                   & G                   & p.R1028P            & 17.93              \\\\\n",
       "\t LRRC41              & broad.mit.edu       & 37                  & 1                   &  46751997           &  46751997           & Missense\\_Mutation & SNP                 & TCGA-04-1331-01     & Somatic             & C                   & C                   & T                   & p.E178K             & 28.5               \\\\\n",
       "\t ERICH3              & broad.mit.edu       & 37                  & 1                   &  75055494           &  75055494           & Missense\\_Mutation & SNP                 & TCGA-04-1331-01     & Unknown             & T                   & T                   & G                   & p.E666A             & 12.41              \\\\\n",
       "\t SSX2IP            & broad.mit.edu     & 37                & 1                 &  85128152         &  85128152         & Silent            & SNP               & TCGA-04-1331-01   & Somatic           & A                 & A                 & G                 & p.G245G           & NA               \\\\\n",
       "\t NTNG1               & broad.mit.edu       & 37                  & 1                   & 107866918           & 107866918           & Missense\\_Mutation & SNP                 & TCGA-04-1331-01     & Somatic             & G                   & G                   & A                   & p.M87I              & 19.40              \\\\\n",
       "\t PGLYRP3             & broad.mit.edu       & 37                  & 1                   & 153274927           & 153274927           & Missense\\_Mutation & SNP                 & TCGA-04-1331-01     & Unknown             & G                   & G                   & T                   & p.S229Y             & 14.61              \\\\\n",
       "\\end{tabular}\n"
      ],
      "text/markdown": [
       "\n",
       "Hugo_Symbol | Center | NCBI_Build | Chromosome | Start_position | End_position | Variant_Classification | Variant_Type | Tumor_Sample_Barcode | Mutation_Status | Reference_Allele | Tumor_Seq_Allele1 | Tumor_Seq_Allele2 | Protein_Change | i_dbNSFP_CADD_phred | \n",
       "|---|---|---|---|---|---|\n",
       "| BAI2              | broad.mit.edu     | 37                | 1                 |  32202221         |  32202221         | Missense_Mutation | SNP               | TCGA-04-1331-01   | Unknown           | C                 | C                 | G                 | p.R1028P          | 17.93             | \n",
       "| LRRC41            | broad.mit.edu     | 37                | 1                 |  46751997         |  46751997         | Missense_Mutation | SNP               | TCGA-04-1331-01   | Somatic           | C                 | C                 | T                 | p.E178K           | 28.5              | \n",
       "| ERICH3            | broad.mit.edu     | 37                | 1                 |  75055494         |  75055494         | Missense_Mutation | SNP               | TCGA-04-1331-01   | Unknown           | T                 | T                 | G                 | p.E666A           | 12.41             | \n",
       "| SSX2IP            | broad.mit.edu     | 37                | 1                 |  85128152         |  85128152         | Silent            | SNP               | TCGA-04-1331-01   | Somatic           | A                 | A                 | G                 | p.G245G           | NA                | \n",
       "| NTNG1             | broad.mit.edu     | 37                | 1                 | 107866918         | 107866918         | Missense_Mutation | SNP               | TCGA-04-1331-01   | Somatic           | G                 | G                 | A                 | p.M87I            | 19.40             | \n",
       "| PGLYRP3           | broad.mit.edu     | 37                | 1                 | 153274927         | 153274927         | Missense_Mutation | SNP               | TCGA-04-1331-01   | Unknown           | G                 | G                 | T                 | p.S229Y           | 14.61             | \n",
       "\n",
       "\n"
      ],
      "text/plain": [
       "  Hugo_Symbol Center        NCBI_Build Chromosome Start_position End_position\n",
       "1 BAI2        broad.mit.edu 37         1           32202221       32202221   \n",
       "2 LRRC41      broad.mit.edu 37         1           46751997       46751997   \n",
       "3 ERICH3      broad.mit.edu 37         1           75055494       75055494   \n",
       "4 SSX2IP      broad.mit.edu 37         1           85128152       85128152   \n",
       "5 NTNG1       broad.mit.edu 37         1          107866918      107866918   \n",
       "6 PGLYRP3     broad.mit.edu 37         1          153274927      153274927   \n",
       "  Variant_Classification Variant_Type Tumor_Sample_Barcode Mutation_Status\n",
       "1 Missense_Mutation      SNP          TCGA-04-1331-01      Unknown        \n",
       "2 Missense_Mutation      SNP          TCGA-04-1331-01      Somatic        \n",
       "3 Missense_Mutation      SNP          TCGA-04-1331-01      Unknown        \n",
       "4 Silent                 SNP          TCGA-04-1331-01      Somatic        \n",
       "5 Missense_Mutation      SNP          TCGA-04-1331-01      Somatic        \n",
       "6 Missense_Mutation      SNP          TCGA-04-1331-01      Unknown        \n",
       "  Reference_Allele Tumor_Seq_Allele1 Tumor_Seq_Allele2 Protein_Change\n",
       "1 C                C                 G                 p.R1028P      \n",
       "2 C                C                 T                 p.E178K       \n",
       "3 T                T                 G                 p.E666A       \n",
       "4 A                A                 G                 p.G245G       \n",
       "5 G                G                 A                 p.M87I        \n",
       "6 G                G                 T                 p.S229Y       \n",
       "  i_dbNSFP_CADD_phred\n",
       "1 17.93              \n",
       "2 28.5               \n",
       "3 12.41              \n",
       "4 NA                 \n",
       "5 19.40              \n",
       "6 14.61              "
      ]
     },
     "metadata": {},
     "output_type": "display_data"
    }
   ],
   "source": [
    "maf.types <- maf.df[maf.df$Variant_Classification %in% types,]\n",
    "head(maf.types)"
   ]
  },
  {
   "cell_type": "code",
   "execution_count": 60,
   "metadata": {
    "collapsed": false
   },
   "outputs": [
    {
     "name": "stderr",
     "output_type": "stream",
     "text": [
      "Warning message in eval(expr, envir, enclos):\n",
      "\"NAs introduced by coercion\""
     ]
    },
    {
     "data": {
      "image/png": "[encoded data removed]",
      "text/plain": [
       "plot without title"
      ]
     },
     "metadata": {},
     "output_type": "display_data"
    }
   ],
   "source": [
    "#compare the types using boxplot\n",
    "boxplot(as.numeric(maf.types$i_dbNSFP_CADD_phred) ~ maf.types$Variant_Classification,\n",
    "        ylab = \"CADD_Phred\", cex.axis = .8)"
   ]
  },
  {
   "cell_type": "markdown",
   "metadata": {},
   "source": [
    "#### Task 2"
   ]
  },
  {
   "cell_type": "code",
   "execution_count": 61,
   "metadata": {
    "collapsed": false
   },
   "outputs": [
    {
     "name": "stdout",
     "output_type": "stream",
     "text": [
      "'data.frame':\t41 obs. of  8 variables:\n",
      " $ Arm          : chr  \"1p\" \"1q\" \"2p\" \"2q\" ...\n",
      " $ X..Genes     : int  1300 1195 624 967 644 733 289 670 183 905 ...\n",
      " $ Amp.frequency: num  0.32 0.4 0.34 0.28 0.31 0.5 0.21 0.14 0.38 0.15 ...\n",
      " $ Amp.z.score  : num  2.44 5.75 -1.25 -1.71 -2.27 7.23 -6.5 -6.56 -1.81 -7.06 ...\n",
      " $ Amp.q.value  : num  3.76e-02 5.93e-08 1.00 1.00 1.00 ...\n",
      " $ Del.Frequency: num  0.17 0.14 0.16 0.17 0.26 0.19 0.61 0.66 0.43 0.45 ...\n",
      " $ Del.z.score  : num  -4.95 -6.44 -8.55 -6.89 -4.32 -6.17 9.49 14.9 0.123 5.84 ...\n",
      " $ Del.q.value  : num  1.00 1.00 1.00 1.00 1.00 1.00 0.00 0.00 7.11e-01 6.40e-09 ...\n"
     ]
    }
   ],
   "source": [
    "# read the input file and see the structure \n",
    "arm_data <- read.delim(paste0(\n",
    "                            \"gdac.broadinstitute.org_OV-TP.CopyNumber_Gistic2.Level_4.2016012800.0.0/\",\n",
    "                            \"broad_significance_results.txt\"), stringsAsFactors = F)\n",
    "\n",
    "str(arm_data)"
   ]
  },
  {
   "cell_type": "code",
   "execution_count": 69,
   "metadata": {
    "collapsed": false
   },
   "outputs": [
    {
     "data": {
      "text/html": [
       "<table>\n",
       "<thead><tr><th scope=col>Gene Symbol</th><th scope=col>Locus ID</th><th scope=col>Cytoband</th><th scope=col>TCGA-04-1331-01A-01D-0428-01</th><th scope=col>TCGA-04-1332-01A-01D-0428-01</th></tr></thead>\n",
       "<tbody>\n",
       "\t<tr><td>ACAP3  </td><td>116983 </td><td>1p36.33</td><td>-1     </td><td>0      </td></tr>\n",
       "\t<tr><td>ACTRT2 </td><td>140625 </td><td>1p36.32</td><td>-1     </td><td>0      </td></tr>\n",
       "\t<tr><td>AGRN   </td><td>375790 </td><td>1p36.33</td><td>-1     </td><td>0      </td></tr>\n",
       "\t<tr><td>ANKRD65</td><td>441869 </td><td>1p36.33</td><td>-1     </td><td>0      </td></tr>\n",
       "\t<tr><td>ATAD3A </td><td> 55210 </td><td>1p36.33</td><td>-1     </td><td>0      </td></tr>\n",
       "\t<tr><td>ATAD3B </td><td> 83858 </td><td>1p36.33</td><td>-1     </td><td>0      </td></tr>\n",
       "</tbody>\n",
       "</table>\n"
      ],
      "text/latex": [
       "\\begin{tabular}{r|lllll}\n",
       " Gene Symbol & Locus ID & Cytoband & TCGA-04-1331-01A-01D-0428-01 & TCGA-04-1332-01A-01D-0428-01\\\\\n",
       "\\hline\n",
       "\t ACAP3   & 116983  & 1p36.33 & -1      & 0      \\\\\n",
       "\t ACTRT2  & 140625  & 1p36.32 & -1      & 0      \\\\\n",
       "\t AGRN    & 375790  & 1p36.33 & -1      & 0      \\\\\n",
       "\t ANKRD65 & 441869  & 1p36.33 & -1      & 0      \\\\\n",
       "\t ATAD3A  &  55210  & 1p36.33 & -1      & 0      \\\\\n",
       "\t ATAD3B  &  83858  & 1p36.33 & -1      & 0      \\\\\n",
       "\\end{tabular}\n"
      ],
      "text/markdown": [
       "\n",
       "Gene Symbol | Locus ID | Cytoband | TCGA-04-1331-01A-01D-0428-01 | TCGA-04-1332-01A-01D-0428-01 | \n",
       "|---|---|---|---|---|---|\n",
       "| ACAP3   | 116983  | 1p36.33 | -1      | 0       | \n",
       "| ACTRT2  | 140625  | 1p36.32 | -1      | 0       | \n",
       "| AGRN    | 375790  | 1p36.33 | -1      | 0       | \n",
       "| ANKRD65 | 441869  | 1p36.33 | -1      | 0       | \n",
       "| ATAD3A  |  55210  | 1p36.33 | -1      | 0       | \n",
       "| ATAD3B  |  83858  | 1p36.33 | -1      | 0       | \n",
       "\n",
       "\n"
      ],
      "text/plain": [
       "  Gene Symbol Locus ID Cytoband TCGA-04-1331-01A-01D-0428-01\n",
       "1 ACAP3       116983   1p36.33  -1                          \n",
       "2 ACTRT2      140625   1p36.32  -1                          \n",
       "3 AGRN        375790   1p36.33  -1                          \n",
       "4 ANKRD65     441869   1p36.33  -1                          \n",
       "5 ATAD3A       55210   1p36.33  -1                          \n",
       "6 ATAD3B       83858   1p36.33  -1                          \n",
       "  TCGA-04-1332-01A-01D-0428-01\n",
       "1 0                           \n",
       "2 0                           \n",
       "3 0                           \n",
       "4 0                           \n",
       "5 0                           \n",
       "6 0                           "
      ]
     },
     "metadata": {},
     "output_type": "display_data"
    }
   ],
   "source": [
    "# This file has threshold copy number for each sample in each gene\n",
    "# First column has the gene name, second has entrez ID and third had the cytoband\n",
    "# the rest of the columns include the copy number value per sample\n",
    "# 2: high-level amplification, 1: gain, 0: normal, -1: loss, -2: homozygous deletion\n",
    "\n",
    "genecopyNumber <- read.delim(paste0(\n",
    "                            \"gdac.broadinstitute.org_OV-TP.CopyNumber_Gistic2.Level_4.2016012800.0.0/\",\n",
    "                             \"all_thresholded.by_genes.txt\"), stringsAsFactors = F, check.names = F)\n",
    "\n",
    "head(genecopyNumber[,1:5])"
   ]
  },
  {
   "cell_type": "markdown",
   "metadata": {},
   "source": [
    "##### How many chromosome arms are recurrently amplified and deleted with significant q-value?"
   ]
  },
  {
   "cell_type": "code",
   "execution_count": 65,
   "metadata": {
    "collapsed": false
   },
   "outputs": [
    {
     "data": {
      "text/html": [
       "<ol class=list-inline>\n",
       "\t<li>'1p'</li>\n",
       "\t<li>'1q'</li>\n",
       "\t<li>'3q'</li>\n",
       "\t<li>'7q'</li>\n",
       "\t<li>'8q'</li>\n",
       "\t<li>'12p'</li>\n",
       "\t<li>'20p'</li>\n",
       "\t<li>'20q'</li>\n",
       "</ol>\n"
      ],
      "text/latex": [
       "\\begin{enumerate*}\n",
       "\\item '1p'\n",
       "\\item '1q'\n",
       "\\item '3q'\n",
       "\\item '7q'\n",
       "\\item '8q'\n",
       "\\item '12p'\n",
       "\\item '20p'\n",
       "\\item '20q'\n",
       "\\end{enumerate*}\n"
      ],
      "text/markdown": [
       "1. '1p'\n",
       "2. '1q'\n",
       "3. '3q'\n",
       "4. '7q'\n",
       "5. '8q'\n",
       "6. '12p'\n",
       "7. '20p'\n",
       "8. '20q'\n",
       "\n",
       "\n"
      ],
      "text/plain": [
       "[1] \"1p\"  \"1q\"  \"3q\"  \"7q\"  \"8q\"  \"12p\" \"20p\" \"20q\""
      ]
     },
     "metadata": {},
     "output_type": "display_data"
    }
   ],
   "source": [
    "#check how many chromosome arms have amplification q-value < 0.05 and how many have deletion q-value < 0.05\n",
    "arm_data[ arm_data$Amp.q.value < 0.05, 1]"
   ]
  },
  {
   "cell_type": "code",
   "execution_count": 66,
   "metadata": {
    "collapsed": false
   },
   "outputs": [
    {
     "data": {
      "text/html": [
       "8"
      ],
      "text/latex": [
       "8"
      ],
      "text/markdown": [
       "8"
      ],
      "text/plain": [
       "[1] 8"
      ]
     },
     "metadata": {},
     "output_type": "display_data"
    }
   ],
   "source": [
    "length(arm_data[ arm_data$Amp.q.value < 0.05, 1])"
   ]
  },
  {
   "cell_type": "code",
   "execution_count": 67,
   "metadata": {
    "collapsed": false
   },
   "outputs": [
    {
     "data": {
      "text/html": [
       "<ol class=list-inline>\n",
       "\t<li>'4p'</li>\n",
       "\t<li>'4q'</li>\n",
       "\t<li>'5q'</li>\n",
       "\t<li>'6p'</li>\n",
       "\t<li>'6q'</li>\n",
       "\t<li>'8p'</li>\n",
       "\t<li>'9p'</li>\n",
       "\t<li>'9q'</li>\n",
       "\t<li>'13q'</li>\n",
       "\t<li>'14q'</li>\n",
       "\t<li>'15q'</li>\n",
       "\t<li>'16p'</li>\n",
       "\t<li>'16q'</li>\n",
       "\t<li>'17p'</li>\n",
       "\t<li>'17q'</li>\n",
       "\t<li>'18p'</li>\n",
       "\t<li>'18q'</li>\n",
       "\t<li>'19p'</li>\n",
       "\t<li>'19q'</li>\n",
       "\t<li>'22q'</li>\n",
       "\t<li>'Xp'</li>\n",
       "\t<li>'Xq'</li>\n",
       "</ol>\n"
      ],
      "text/latex": [
       "\\begin{enumerate*}\n",
       "\\item '4p'\n",
       "\\item '4q'\n",
       "\\item '5q'\n",
       "\\item '6p'\n",
       "\\item '6q'\n",
       "\\item '8p'\n",
       "\\item '9p'\n",
       "\\item '9q'\n",
       "\\item '13q'\n",
       "\\item '14q'\n",
       "\\item '15q'\n",
       "\\item '16p'\n",
       "\\item '16q'\n",
       "\\item '17p'\n",
       "\\item '17q'\n",
       "\\item '18p'\n",
       "\\item '18q'\n",
       "\\item '19p'\n",
       "\\item '19q'\n",
       "\\item '22q'\n",
       "\\item 'Xp'\n",
       "\\item 'Xq'\n",
       "\\end{enumerate*}\n"
      ],
      "text/markdown": [
       "1. '4p'\n",
       "2. '4q'\n",
       "3. '5q'\n",
       "4. '6p'\n",
       "5. '6q'\n",
       "6. '8p'\n",
       "7. '9p'\n",
       "8. '9q'\n",
       "9. '13q'\n",
       "10. '14q'\n",
       "11. '15q'\n",
       "12. '16p'\n",
       "13. '16q'\n",
       "14. '17p'\n",
       "15. '17q'\n",
       "16. '18p'\n",
       "17. '18q'\n",
       "18. '19p'\n",
       "19. '19q'\n",
       "20. '22q'\n",
       "21. 'Xp'\n",
       "22. 'Xq'\n",
       "\n",
       "\n"
      ],
      "text/plain": [
       " [1] \"4p\"  \"4q\"  \"5q\"  \"6p\"  \"6q\"  \"8p\"  \"9p\"  \"9q\"  \"13q\" \"14q\" \"15q\" \"16p\"\n",
       "[13] \"16q\" \"17p\" \"17q\" \"18p\" \"18q\" \"19p\" \"19q\" \"22q\" \"Xp\"  \"Xq\" "
      ]
     },
     "metadata": {},
     "output_type": "display_data"
    }
   ],
   "source": [
    "arm_data[ arm_data$Del.q.value < 0.05, 1]"
   ]
  },
  {
   "cell_type": "code",
   "execution_count": 68,
   "metadata": {
    "collapsed": false
   },
   "outputs": [
    {
     "data": {
      "text/html": [
       "22"
      ],
      "text/latex": [
       "22"
      ],
      "text/markdown": [
       "22"
      ],
      "text/plain": [
       "[1] 22"
      ]
     },
     "metadata": {},
     "output_type": "display_data"
    }
   ],
   "source": [
    "length(arm_data[ arm_data$Del.q.value < 0.05, 1])"
   ]
  },
  {
   "cell_type": "markdown",
   "metadata": {},
   "source": [
    "##### How many samples have high-level amplification (value = 2) in CCNE1?"
   ]
  },
  {
   "cell_type": "code",
   "execution_count": 70,
   "metadata": {
    "collapsed": false
   },
   "outputs": [
    {
     "data": {
      "text/plain": [
       "\n",
       " -1   0   1   2 \n",
       " 51 205 198 125 "
      ]
     },
     "metadata": {},
     "output_type": "display_data"
    }
   ],
   "source": [
    "#count the alterations in CCNE1, RB1 and NF1\n",
    "#keys=> 2: high-level amplification, 1: gain, 0: normal, -1: loss, -2: homozygous deletion\n",
    "\n",
    "#high-level amplification in CCNE1\n",
    "table(as.numeric(genecopyNumber[ genecopyNumber[,1] == \"CCNE1\", -c(1:3)]))"
   ]
  },
  {
   "cell_type": "markdown",
   "metadata": {},
   "source": [
    "##### How many samples have homozygous deletions (value = -2) in each of NF1 and RB1 ?"
   ]
  },
  {
   "cell_type": "code",
   "execution_count": 71,
   "metadata": {
    "collapsed": false
   },
   "outputs": [
    {
     "data": {
      "text/plain": [
       "\n",
       " -2  -1   0   1   2 \n",
       " 51 321 137  66   4 "
      ]
     },
     "metadata": {},
     "output_type": "display_data"
    }
   ],
   "source": [
    "#homozygous deletion in RB1\n",
    "\n",
    "table(as.numeric(genecopyNumber[ genecopyNumber[,1] == \"RB1\", -c(1:3)]))"
   ]
  },
  {
   "cell_type": "code",
   "execution_count": 72,
   "metadata": {
    "collapsed": false
   },
   "outputs": [
    {
     "data": {
      "text/plain": [
       "\n",
       " -2  -1   0   1   2 \n",
       " 40 438  75  25   1 "
      ]
     },
     "metadata": {},
     "output_type": "display_data"
    }
   ],
   "source": [
    "#homozygous deletion in NF1\n",
    "table(as.numeric(genecopyNumber[ genecopyNumber[,1] == \"NF1\", -c(1:3)]))"
   ]
  }
 ],
 "metadata": {
  "kernelspec": {
   "display_name": "R",
   "language": "R",
   "name": "ir"
  },
  "language_info": {
   "codemirror_mode": "r",
   "file_extension": ".r",
   "mimetype": "text/x-r-source",
   "name": "R",
   "pygments_lexer": "r",
   "version": "3.3.2"
  }
 },
 "nbformat": 4,
 "nbformat_minor": 2
}
