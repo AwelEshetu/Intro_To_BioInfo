{
 "cells": [
  {
   "cell_type": "code",
   "execution_count": null,
   "metadata": {
    "collapsed": true
   },
   "outputs": [],
   "source": [
    "# we will need these packages that you download from Bioconductor('maftools') and CRAN ('readr', 'NMF')\n",
    "library(readr)\n",
    "library(NMF)\n",
    "library(maftools)\n",
    "\n",
    "# change this path according to where you created the folder\n",
    "#dataPath <- \"C:/-=TRANSMED=-/course materials/teaching/BIOINF17/ex1/bioinf/\" \n",
    "fileList <- list.files( paste0(\"gdac.broadinstitute.org_OV.Mutation_Packager_Oncotated_Calls.Level_3.2016012800.0.0/\"))\n",
    "\n",
    "# this is to remove the manifest file from the list\n",
    "fileList <- fileList[ fileList != \"MANIFEST.txt\"] \n",
    "\n",
    "# let's create an empty list and then populate it with the files\n",
    "mafList <- list()\n",
    "for (i in seq_along(fileList)) \n",
    "  mafList[[i]] <- read_tsv( paste0( \n",
    "                \"gdac.broadinstitute.org_OV.Mutation_Packager_Oncotated_Calls.Level_3.2016012800.0.0/\",\n",
    "                fileList[i]) ,comment = \"#\", progress = F)\n",
    "\n",
    "#now let's aggregate the list into one data frame\n",
    "maf.df <- as.data.frame(do.call(rbind, mafList))\n",
    "head(maf.df)"
   ]
  },
  {
   "cell_type": "code",
   "execution_count": 42,
   "metadata": {
    "collapsed": false
   },
   "outputs": [],
   "source": [
    "# You can check here and appreciate how many possible annotations one can get\n",
    "# We will choose specific columns only for ease of use\n",
    "\n",
    "selectedColumns <- c( \"Hugo_Symbol\", \"Center\", \"NCBI_Build\", \"Chromosome\",\n",
    "                      \"Start_position\", \"End_position\", \"Variant_Classification\",\n",
    "                      \"Variant_Type\", \"Tumor_Sample_Barcode\", \"Mutation_Status\", \n",
    "                      \"Reference_Allele\", \"Tumor_Seq_Allele1\", \"Tumor_Seq_Allele2\",\n",
    "                      \"Protein_Change\", \"i_dbNSFP_CADD_phred\")\n",
    "\n",
    "maf.df <- maf.df[, selectedColumns]\n"
   ]
  },
  {
   "cell_type": "code",
   "execution_count": 43,
   "metadata": {
    "collapsed": true
   },
   "outputs": [
    {
     "name": "stdout",
     "output_type": "stream",
     "text": [
      "'data.frame':\t20160 obs. of  15 variables:\n",
      " $ Hugo_Symbol           : chr  \"BAI2\" \"LRRC41\" \"ERICH3\" \"SSX2IP\" ...\n",
      " $ Center                : chr  \"broad.mit.edu\" \"broad.mit.edu\" \"broad.mit.edu\" \"broad.mit.edu\" ...\n",
      " $ NCBI_Build            : int  37 37 37 37 37 37 37 37 37 37 ...\n",
      " $ Chromosome            : chr  \"1\" \"1\" \"1\" \"1\" ...\n",
      " $ Start_position        : int  32202221 46751997 75055494 85128152 107866918 153274927 157516843 224321795 248343719 28023684 ...\n",
      " $ End_position          : int  32202221 46751997 75055494 85128152 107866918 153274927 157516843 224321795 248343719 28023684 ...\n",
      " $ Variant_Classification: chr  \"Missense_Mutation\" \"Missense_Mutation\" \"Missense_Mutation\" \"Silent\" ...\n",
      " $ Variant_Type          : chr  \"SNP\" \"SNP\" \"SNP\" \"SNP\" ...\n",
      " $ Tumor_Sample_Barcode  : chr  \"TCGA-04-1331-01\" \"TCGA-04-1331-01\" \"TCGA-04-1331-01\" \"TCGA-04-1331-01\" ...\n",
      " $ Mutation_Status       : chr  \"Unknown\" \"Somatic\" \"Unknown\" \"Somatic\" ...\n",
      " $ Reference_Allele      : chr  \"C\" \"C\" \"T\" \"A\" ...\n",
      " $ Tumor_Seq_Allele1     : chr  \"C\" \"C\" \"T\" \"A\" ...\n",
      " $ Tumor_Seq_Allele2     : chr  \"G\" \"T\" \"G\" \"G\" ...\n",
      " $ Protein_Change        : chr  \"p.R1028P\" \"p.E178K\" \"p.E666A\" \"p.G245G\" ...\n",
      " $ i_dbNSFP_CADD_phred   : chr  \"17.93\" \"28.5\" \"12.41\" NA ...\n"
     ]
    }
   ],
   "source": [
    "# Let's keep only mutations marked as somatic or unknown and \n",
    "# store the rest in separate data.frame\n",
    "maf.germline.df <- maf.df[! maf.df$Mutation_Status %in% c(\"Somatic\",\"Unknown\"), ]\n",
    "maf.df <- maf.df[ maf.df$Mutation_Status %in% c(\"Somatic\",\"Unknown\"), ]\n",
    "\n",
    "# let's see the structure of data frame\n",
    "str(maf.df)"
   ]
  },
  {
   "cell_type": "code",
   "execution_count": 44,
   "metadata": {
    "collapsed": false
   },
   "outputs": [
    {
     "data": {
      "text/html": [
       "<table>\n",
       "<thead><tr><th scope=col>Hugo_Symbol</th><th scope=col>Center</th><th scope=col>NCBI_Build</th><th scope=col>Chromosome</th><th scope=col>Start_position</th><th scope=col>End_position</th><th scope=col>Variant_Classification</th><th scope=col>Variant_Type</th><th scope=col>Tumor_Sample_Barcode</th><th scope=col>Mutation_Status</th><th scope=col>Reference_Allele</th><th scope=col>Tumor_Seq_Allele1</th><th scope=col>Tumor_Seq_Allele2</th><th scope=col>Protein_Change</th><th scope=col>i_dbNSFP_CADD_phred</th></tr></thead>\n",
       "<tbody>\n",
       "\t<tr><td>BAI2             </td><td>broad.mit.edu    </td><td>37               </td><td>1                </td><td> 32202221        </td><td> 32202221        </td><td>Missense_Mutation</td><td>SNP              </td><td>TCGA-04-1331-01  </td><td>Unknown          </td><td>C                </td><td>C                </td><td>G                </td><td>p.R1028P         </td><td>17.93            </td></tr>\n",
       "\t<tr><td>LRRC41           </td><td>broad.mit.edu    </td><td>37               </td><td>1                </td><td> 46751997        </td><td> 46751997        </td><td>Missense_Mutation</td><td>SNP              </td><td>TCGA-04-1331-01  </td><td>Somatic          </td><td>C                </td><td>C                </td><td>T                </td><td>p.E178K          </td><td>28.5             </td></tr>\n",
       "\t<tr><td>ERICH3           </td><td>broad.mit.edu    </td><td>37               </td><td>1                </td><td> 75055494        </td><td> 75055494        </td><td>Missense_Mutation</td><td>SNP              </td><td>TCGA-04-1331-01  </td><td>Unknown          </td><td>T                </td><td>T                </td><td>G                </td><td>p.E666A          </td><td>12.41            </td></tr>\n",
       "\t<tr><td>SSX2IP           </td><td>broad.mit.edu    </td><td>37               </td><td>1                </td><td> 85128152        </td><td> 85128152        </td><td>Silent           </td><td>SNP              </td><td>TCGA-04-1331-01  </td><td>Somatic          </td><td>A                </td><td>A                </td><td>G                </td><td>p.G245G          </td><td>NA               </td></tr>\n",
       "\t<tr><td>NTNG1            </td><td>broad.mit.edu    </td><td>37               </td><td>1                </td><td>107866918        </td><td>107866918        </td><td>Missense_Mutation</td><td>SNP              </td><td>TCGA-04-1331-01  </td><td>Somatic          </td><td>G                </td><td>G                </td><td>A                </td><td>p.M87I           </td><td>19.40            </td></tr>\n",
       "\t<tr><td>PGLYRP3          </td><td>broad.mit.edu    </td><td>37               </td><td>1                </td><td>153274927        </td><td>153274927        </td><td>Missense_Mutation</td><td>SNP              </td><td>TCGA-04-1331-01  </td><td>Unknown          </td><td>G                </td><td>G                </td><td>T                </td><td>p.S229Y          </td><td>14.61            </td></tr>\n",
       "</tbody>\n",
       "</table>\n"
      ],
      "text/latex": [
       "\\begin{tabular}{r|lllllllllllllll}\n",
       " Hugo\\_Symbol & Center & NCBI\\_Build & Chromosome & Start\\_position & End\\_position & Variant\\_Classification & Variant\\_Type & Tumor\\_Sample\\_Barcode & Mutation\\_Status & Reference\\_Allele & Tumor\\_Seq\\_Allele1 & Tumor\\_Seq\\_Allele2 & Protein\\_Change & i\\_dbNSFP\\_CADD\\_phred\\\\\n",
       "\\hline\n",
       "\t BAI2                & broad.mit.edu       & 37                  & 1                   &  32202221           &  32202221           & Missense\\_Mutation & SNP                 & TCGA-04-1331-01     & Unknown             & C                   & C                   & G                   & p.R1028P            & 17.93              \\\\\n",
       "\t LRRC41              & broad.mit.edu       & 37                  & 1                   &  46751997           &  46751997           & Missense\\_Mutation & SNP                 & TCGA-04-1331-01     & Somatic             & C                   & C                   & T                   & p.E178K             & 28.5               \\\\\n",
       "\t ERICH3              & broad.mit.edu       & 37                  & 1                   &  75055494           &  75055494           & Missense\\_Mutation & SNP                 & TCGA-04-1331-01     & Unknown             & T                   & T                   & G                   & p.E666A             & 12.41              \\\\\n",
       "\t SSX2IP            & broad.mit.edu     & 37                & 1                 &  85128152         &  85128152         & Silent            & SNP               & TCGA-04-1331-01   & Somatic           & A                 & A                 & G                 & p.G245G           & NA               \\\\\n",
       "\t NTNG1               & broad.mit.edu       & 37                  & 1                   & 107866918           & 107866918           & Missense\\_Mutation & SNP                 & TCGA-04-1331-01     & Somatic             & G                   & G                   & A                   & p.M87I              & 19.40              \\\\\n",
       "\t PGLYRP3             & broad.mit.edu       & 37                  & 1                   & 153274927           & 153274927           & Missense\\_Mutation & SNP                 & TCGA-04-1331-01     & Unknown             & G                   & G                   & T                   & p.S229Y             & 14.61              \\\\\n",
       "\\end{tabular}\n"
      ],
      "text/markdown": [
       "\n",
       "Hugo_Symbol | Center | NCBI_Build | Chromosome | Start_position | End_position | Variant_Classification | Variant_Type | Tumor_Sample_Barcode | Mutation_Status | Reference_Allele | Tumor_Seq_Allele1 | Tumor_Seq_Allele2 | Protein_Change | i_dbNSFP_CADD_phred | \n",
       "|---|---|---|---|---|---|\n",
       "| BAI2              | broad.mit.edu     | 37                | 1                 |  32202221         |  32202221         | Missense_Mutation | SNP               | TCGA-04-1331-01   | Unknown           | C                 | C                 | G                 | p.R1028P          | 17.93             | \n",
       "| LRRC41            | broad.mit.edu     | 37                | 1                 |  46751997         |  46751997         | Missense_Mutation | SNP               | TCGA-04-1331-01   | Somatic           | C                 | C                 | T                 | p.E178K           | 28.5              | \n",
       "| ERICH3            | broad.mit.edu     | 37                | 1                 |  75055494         |  75055494         | Missense_Mutation | SNP               | TCGA-04-1331-01   | Unknown           | T                 | T                 | G                 | p.E666A           | 12.41             | \n",
       "| SSX2IP            | broad.mit.edu     | 37                | 1                 |  85128152         |  85128152         | Silent            | SNP               | TCGA-04-1331-01   | Somatic           | A                 | A                 | G                 | p.G245G           | NA                | \n",
       "| NTNG1             | broad.mit.edu     | 37                | 1                 | 107866918         | 107866918         | Missense_Mutation | SNP               | TCGA-04-1331-01   | Somatic           | G                 | G                 | A                 | p.M87I            | 19.40             | \n",
       "| PGLYRP3           | broad.mit.edu     | 37                | 1                 | 153274927         | 153274927         | Missense_Mutation | SNP               | TCGA-04-1331-01   | Unknown           | G                 | G                 | T                 | p.S229Y           | 14.61             | \n",
       "\n",
       "\n"
      ],
      "text/plain": [
       "  Hugo_Symbol Center        NCBI_Build Chromosome Start_position End_position\n",
       "1 BAI2        broad.mit.edu 37         1           32202221       32202221   \n",
       "2 LRRC41      broad.mit.edu 37         1           46751997       46751997   \n",
       "3 ERICH3      broad.mit.edu 37         1           75055494       75055494   \n",
       "4 SSX2IP      broad.mit.edu 37         1           85128152       85128152   \n",
       "5 NTNG1       broad.mit.edu 37         1          107866918      107866918   \n",
       "6 PGLYRP3     broad.mit.edu 37         1          153274927      153274927   \n",
       "  Variant_Classification Variant_Type Tumor_Sample_Barcode Mutation_Status\n",
       "1 Missense_Mutation      SNP          TCGA-04-1331-01      Unknown        \n",
       "2 Missense_Mutation      SNP          TCGA-04-1331-01      Somatic        \n",
       "3 Missense_Mutation      SNP          TCGA-04-1331-01      Unknown        \n",
       "4 Silent                 SNP          TCGA-04-1331-01      Somatic        \n",
       "5 Missense_Mutation      SNP          TCGA-04-1331-01      Somatic        \n",
       "6 Missense_Mutation      SNP          TCGA-04-1331-01      Unknown        \n",
       "  Reference_Allele Tumor_Seq_Allele1 Tumor_Seq_Allele2 Protein_Change\n",
       "1 C                C                 G                 p.R1028P      \n",
       "2 C                C                 T                 p.E178K       \n",
       "3 T                T                 G                 p.E666A       \n",
       "4 A                A                 G                 p.G245G       \n",
       "5 G                G                 A                 p.M87I        \n",
       "6 G                G                 T                 p.S229Y       \n",
       "  i_dbNSFP_CADD_phred\n",
       "1 17.93              \n",
       "2 28.5               \n",
       "3 12.41              \n",
       "4 NA                 \n",
       "5 19.40              \n",
       "6 14.61              "
      ]
     },
     "metadata": {},
     "output_type": "display_data"
    }
   ],
   "source": [
    "head(maf.df)"
   ]
  },
  {
   "cell_type": "code",
   "execution_count": 45,
   "metadata": {
    "collapsed": false
   },
   "outputs": [
    {
     "data": {
      "text/html": [
       "<table>\n",
       "<thead><tr><th></th><th scope=col>Hugo_Symbol</th><th scope=col>Center</th><th scope=col>NCBI_Build</th><th scope=col>Chromosome</th><th scope=col>Start_position</th><th scope=col>End_position</th><th scope=col>Variant_Classification</th><th scope=col>Variant_Type</th><th scope=col>Tumor_Sample_Barcode</th><th scope=col>Mutation_Status</th><th scope=col>Reference_Allele</th><th scope=col>Tumor_Seq_Allele1</th><th scope=col>Tumor_Seq_Allele2</th><th scope=col>Protein_Change</th><th scope=col>i_dbNSFP_CADD_phred</th></tr></thead>\n",
       "<tbody>\n",
       "\t<tr><th scope=row>20214</th><td>C9orf78          </td><td>broad.mit.edu    </td><td>37               </td><td>9                </td><td>132597484        </td><td>132597484        </td><td>Missense_Mutation</td><td>SNP              </td><td>TCGA-61-2113-01  </td><td>Unknown          </td><td>T                </td><td>T                </td><td>G                </td><td>p.K6T            </td><td>13.48            </td></tr>\n",
       "\t<tr><th scope=row>20215</th><td>CAMSAP1          </td><td>broad.mit.edu    </td><td>37               </td><td>9                </td><td>138714002        </td><td>138714002        </td><td>Missense_Mutation</td><td>SNP              </td><td>TCGA-61-2113-01  </td><td>Unknown          </td><td>G                </td><td>G                </td><td>C                </td><td>p.S835R          </td><td>22.6             </td></tr>\n",
       "\t<tr><th scope=row>20216</th><td>NOTCH1           </td><td>broad.mit.edu    </td><td>37               </td><td>9                </td><td>139391081        </td><td>139391081        </td><td>Missense_Mutation</td><td>SNP              </td><td>TCGA-61-2113-01  </td><td>Unknown          </td><td>G                </td><td>G                </td><td>T                </td><td>p.S2370R         </td><td>12.84            </td></tr>\n",
       "\t<tr><th scope=row>20217</th><td>DPP7             </td><td>broad.mit.edu    </td><td>37               </td><td>9                </td><td>140007856        </td><td>140007856        </td><td>Missense_Mutation</td><td>SNP              </td><td>TCGA-61-2113-01  </td><td>Unknown          </td><td>G                </td><td>G                </td><td>A                </td><td>p.A193V          </td><td>17.85            </td></tr>\n",
       "\t<tr><th scope=row>20218</th><td>FAM47A           </td><td>broad.mit.edu    </td><td>37               </td><td>X                </td><td> 34149721        </td><td> 34149721        </td><td>Silent           </td><td>SNP              </td><td>TCGA-61-2113-01  </td><td>Unknown          </td><td>C                </td><td>C                </td><td>T                </td><td>p.P225P          </td><td>NA               </td></tr>\n",
       "\t<tr><th scope=row>20219</th><td>B3GNT7           </td><td>broad.mit.edu    </td><td>37               </td><td>2                </td><td>232263379        </td><td>232263380        </td><td>In_Frame_Ins     </td><td>INS              </td><td>TCGA-61-2113-01  </td><td>Unknown          </td><td>-                </td><td>-                </td><td>GCG              </td><td>p.317_318insG    </td><td>NA               </td></tr>\n",
       "</tbody>\n",
       "</table>\n"
      ],
      "text/latex": [
       "\\begin{tabular}{r|lllllllllllllll}\n",
       "  & Hugo\\_Symbol & Center & NCBI\\_Build & Chromosome & Start\\_position & End\\_position & Variant\\_Classification & Variant\\_Type & Tumor\\_Sample\\_Barcode & Mutation\\_Status & Reference\\_Allele & Tumor\\_Seq\\_Allele1 & Tumor\\_Seq\\_Allele2 & Protein\\_Change & i\\_dbNSFP\\_CADD\\_phred\\\\\n",
       "\\hline\n",
       "\t20214 & C9orf78             & broad.mit.edu       & 37                  & 9                   & 132597484           & 132597484           & Missense\\_Mutation & SNP                 & TCGA-61-2113-01     & Unknown             & T                   & T                   & G                   & p.K6T               & 13.48              \\\\\n",
       "\t20215 & CAMSAP1             & broad.mit.edu       & 37                  & 9                   & 138714002           & 138714002           & Missense\\_Mutation & SNP                 & TCGA-61-2113-01     & Unknown             & G                   & G                   & C                   & p.S835R             & 22.6               \\\\\n",
       "\t20216 & NOTCH1              & broad.mit.edu       & 37                  & 9                   & 139391081           & 139391081           & Missense\\_Mutation & SNP                 & TCGA-61-2113-01     & Unknown             & G                   & G                   & T                   & p.S2370R            & 12.84              \\\\\n",
       "\t20217 & DPP7                & broad.mit.edu       & 37                  & 9                   & 140007856           & 140007856           & Missense\\_Mutation & SNP                 & TCGA-61-2113-01     & Unknown             & G                   & G                   & A                   & p.A193V             & 17.85              \\\\\n",
       "\t20218 & FAM47A            & broad.mit.edu     & 37                & X                 &  34149721         &  34149721         & Silent            & SNP               & TCGA-61-2113-01   & Unknown           & C                 & C                 & T                 & p.P225P           & NA               \\\\\n",
       "\t20219 & B3GNT7                & broad.mit.edu         & 37                    & 2                     & 232263379             & 232263380             & In\\_Frame\\_Ins      & INS                   & TCGA-61-2113-01       & Unknown               & -                     & -                     & GCG                   & p.317\\_318insG       & NA                   \\\\\n",
       "\\end{tabular}\n"
      ],
      "text/markdown": [
       "\n",
       "| <!--/--> | Hugo_Symbol | Center | NCBI_Build | Chromosome | Start_position | End_position | Variant_Classification | Variant_Type | Tumor_Sample_Barcode | Mutation_Status | Reference_Allele | Tumor_Seq_Allele1 | Tumor_Seq_Allele2 | Protein_Change | i_dbNSFP_CADD_phred | \n",
       "|---|---|---|---|---|---|\n",
       "| 20214 | C9orf78           | broad.mit.edu     | 37                | 9                 | 132597484         | 132597484         | Missense_Mutation | SNP               | TCGA-61-2113-01   | Unknown           | T                 | T                 | G                 | p.K6T             | 13.48             | \n",
       "| 20215 | CAMSAP1           | broad.mit.edu     | 37                | 9                 | 138714002         | 138714002         | Missense_Mutation | SNP               | TCGA-61-2113-01   | Unknown           | G                 | G                 | C                 | p.S835R           | 22.6              | \n",
       "| 20216 | NOTCH1            | broad.mit.edu     | 37                | 9                 | 139391081         | 139391081         | Missense_Mutation | SNP               | TCGA-61-2113-01   | Unknown           | G                 | G                 | T                 | p.S2370R          | 12.84             | \n",
       "| 20217 | DPP7              | broad.mit.edu     | 37                | 9                 | 140007856         | 140007856         | Missense_Mutation | SNP               | TCGA-61-2113-01   | Unknown           | G                 | G                 | A                 | p.A193V           | 17.85             | \n",
       "| 20218 | FAM47A            | broad.mit.edu     | 37                | X                 |  34149721         |  34149721         | Silent            | SNP               | TCGA-61-2113-01   | Unknown           | C                 | C                 | T                 | p.P225P           | NA                | \n",
       "| 20219 | B3GNT7            | broad.mit.edu     | 37                | 2                 | 232263379         | 232263380         | In_Frame_Ins      | INS               | TCGA-61-2113-01   | Unknown           | -                 | -                 | GCG               | p.317_318insG     | NA                | \n",
       "\n",
       "\n"
      ],
      "text/plain": [
       "      Hugo_Symbol Center        NCBI_Build Chromosome Start_position\n",
       "20214 C9orf78     broad.mit.edu 37         9          132597484     \n",
       "20215 CAMSAP1     broad.mit.edu 37         9          138714002     \n",
       "20216 NOTCH1      broad.mit.edu 37         9          139391081     \n",
       "20217 DPP7        broad.mit.edu 37         9          140007856     \n",
       "20218 FAM47A      broad.mit.edu 37         X           34149721     \n",
       "20219 B3GNT7      broad.mit.edu 37         2          232263379     \n",
       "      End_position Variant_Classification Variant_Type Tumor_Sample_Barcode\n",
       "20214 132597484    Missense_Mutation      SNP          TCGA-61-2113-01     \n",
       "20215 138714002    Missense_Mutation      SNP          TCGA-61-2113-01     \n",
       "20216 139391081    Missense_Mutation      SNP          TCGA-61-2113-01     \n",
       "20217 140007856    Missense_Mutation      SNP          TCGA-61-2113-01     \n",
       "20218  34149721    Silent                 SNP          TCGA-61-2113-01     \n",
       "20219 232263380    In_Frame_Ins           INS          TCGA-61-2113-01     \n",
       "      Mutation_Status Reference_Allele Tumor_Seq_Allele1 Tumor_Seq_Allele2\n",
       "20214 Unknown         T                T                 G                \n",
       "20215 Unknown         G                G                 C                \n",
       "20216 Unknown         G                G                 T                \n",
       "20217 Unknown         G                G                 A                \n",
       "20218 Unknown         C                C                 T                \n",
       "20219 Unknown         -                -                 GCG              \n",
       "      Protein_Change i_dbNSFP_CADD_phred\n",
       "20214 p.K6T          13.48              \n",
       "20215 p.S835R        22.6               \n",
       "20216 p.S2370R       12.84              \n",
       "20217 p.A193V        17.85              \n",
       "20218 p.P225P        NA                 \n",
       "20219 p.317_318insG  NA                 "
      ]
     },
     "metadata": {},
     "output_type": "display_data"
    }
   ],
   "source": [
    "tail(maf.df)\n"
   ]
  },
  {
   "cell_type": "code",
   "execution_count": 13,
   "metadata": {
    "collapsed": false
   },
   "outputs": [
    {
     "name": "stderr",
     "output_type": "stream",
     "text": [
      "reading maf..\n",
      "Done !\n"
     ]
    }
   ],
   "source": [
    "write.table(maf.df, file = paste0(\"allSamplesMaf.maf\"),\n",
    "            col.names = T, row.names = F, quote = F, sep=\"\\t\")\n",
    "\n",
    "\n",
    "maf <- read.maf(maf = paste0(\"allSamplesMaf.maf\"),\n",
    "                removeSilent = T, useAll = T , verbose = F)"
   ]
  }
 ],
 "metadata": {
  "kernelspec": {
   "display_name": "R",
   "language": "R",
   "name": "ir"
  },
  "language_info": {
   "codemirror_mode": "r",
   "file_extension": ".r",
   "mimetype": "text/x-r-source",
   "name": "R",
   "pygments_lexer": "r",
   "version": "3.3.2"
  }
 },
 "nbformat": 4,
 "nbformat_minor": 2
}
